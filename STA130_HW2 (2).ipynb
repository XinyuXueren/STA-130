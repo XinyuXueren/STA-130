{
 "cells": [
  {
   "cell_type": "code",
   "execution_count": 1,
   "id": "a7afa8f3",
   "metadata": {},
   "outputs": [
    {
     "data": {
      "text/plain": [
       "0.66617"
      ]
     },
     "execution_count": 1,
     "metadata": {},
     "output_type": "execute_result"
    }
   ],
   "source": [
    "# Question 1\n",
    "# Monte Hall Simulation Code -- not the only way to code this, but it's what Prof. Schwartz came up with...\n",
    "\n",
    "#set up\n",
    "import numpy as np \n",
    "all_door_options = (1,2,3)  # tuple\n",
    "my_door_choice = 1  # 1,2,3\n",
    "i_won = 0\n",
    "reps = 100000\n",
    "for i in range(reps): #repeated for 100,000 times.\n",
    "    secret_winning_door = np.random.choice(all_door_options)#. choose a secret door\n",
    "    all_door_options_list = list(all_door_options) #(1,2,3) -> [1, 2, 3]\n",
    "    # take the secret_winning_door, so we don't show it as a \"goat\" losing door\n",
    "    all_door_options_list.remove(secret_winning_door)#assume 1 is secret door -> [2,3]\n",
    "    try:\n",
    "        # if my_door_choice was secret_winning_door then it's already removed\n",
    "        all_door_options_list.remove(my_door_choice)\n",
    "    except:\n",
    "        pass\n",
    "    # show a \"goat\" losing door and remove it\n",
    "    goat_door_reveal = np.random.choice(all_door_options_list)# can't open the winning door\n",
    "    all_door_options_list.remove(goat_door_reveal)# \n",
    "    # put the secret_winning_door back in if it wasn't our choice\n",
    "    # we previously removed it, so it would be shown as a  \"goat\" losing door\n",
    "    if secret_winning_door != my_door_choice:\n",
    "        all_door_options_list.append(secret_winning_door)\n",
    "    # if secret_winning_door was our choice then all that's left in the list is a \"goat\" losing door\n",
    "    # if secret_winning_door wasn't our choice then it's all that will be left in the list\n",
    "    # Switch to remaining door.\n",
    "    my_door_choice = all_door_options_list[0]\n",
    "    # Check whether I win or not and count the numbers of winning\n",
    "    if my_door_choice == secret_winning_door:\n",
    "        i_won += 1\n",
    "\n",
    "i_won/reps"
   ]
  },
  {
   "cell_type": "code",
   "execution_count": 3,
   "id": "a3e827ca",
   "metadata": {},
   "outputs": [
    {
     "name": "stdout",
     "output_type": "stream",
     "text": [
      "Winning rate when switching: 0.6674\n"
     ]
    }
   ],
   "source": [
    "# Question 2 - Simpler version for Monte Hall Simulation\n",
    "\n",
    "import numpy as np\n",
    "\n",
    "# Simulation setup\n",
    "reps = 100000  # number of repetitions\n",
    "switch_wins = 0  # counter for wins when switching\n",
    "\n",
    "# Run the simulation\n",
    "for _ in range(reps):\n",
    "    # Step 1: Randomly assign the car behind one of the doors (1, 2, or 3)\n",
    "    winning_door = np.random.randint(1, 4)\n",
    "    \n",
    "    # Step 2: Player randomly picks a door (1, 2, or 3)\n",
    "    player_choice = np.random.randint(1, 4)\n",
    "    \n",
    "    # Step 3: Host opens one of the other doors that has a goat\n",
    "    # We don't need to simulate this step since the player will always switch\n",
    "    \n",
    "    # Step 4: Player switches to the remaining unopened door\n",
    "    if player_choice != winning_door:\n",
    "        # If the player's choice is NOT the winning door, switching will win\n",
    "        switch_wins += 1\n",
    "\n",
    "# Calculate win rate when switching\n",
    "win_rate = switch_wins / reps\n",
    "print(f\"Winning rate when switching: {win_rate:.4f}\")"
   ]
  },
  {
   "cell_type": "markdown",
   "id": "378c9e9b-ec68-4028-80c4-573e28a0c32d",
   "metadata": {},
   "source": [
    "# Question 2\n",
    "Absolutely, ChatBot version is simpler and easy to read than the version in Tut demo. First, ChatBot version has obvious less line; Secondly, ChatBot version just remove the unnessessary lines of revealing a door that doesn't win in the original version."
   ]
  },
  {
   "cell_type": "code",
   "execution_count": 1,
   "id": "8171e995-431a-4a73-8f56-09079c5062bf",
   "metadata": {},
   "outputs": [
    {
     "name": "stdout",
     "output_type": "stream",
     "text": [
      "Winning rate when switching: 0.6698\n"
     ]
    }
   ],
   "source": [
    "# Question 3\n",
    "\n",
    "#Import numpy in our code, so we can use it later.\n",
    "import numpy as np \n",
    "\n",
    "# Simulation setup\n",
    "# number of repetitions, also we want to get a more accurate result by repeating this stimulation in a large number.\n",
    "reps = 100000\n",
    "# counter for wins when switching\n",
    "switch_wins = 0 \n",
    "\n",
    "# Run the simulation\n",
    "for _ in range(reps):\n",
    "    # Step 1: Randomly assign the car behind one of the doors (1, 2, or 3)\n",
    "    winning_door = np.random.randint(1, 4)\n",
    "    \n",
    "    # Step 2: Player randomly picks a door (1, 2, or 3)\n",
    "    player_choice = np.random.randint(1, 4)\n",
    "    \n",
    "    # Step 3: Host opens one of the other doors that has a goat\n",
    "    # We don't need to simulate this step since the player will always switch\n",
    "    \n",
    "    # Step 4: Player switches to the remaining unopened door\n",
    "    if player_choice != winning_door:\n",
    "        # If the player's choice is NOT the winning door, switching will win\n",
    "        switch_wins += 1\n",
    "\n",
    "# Calculate the rate that we'll win the game if we switching our choice\n",
    "win_rate = switch_wins / reps\n",
    "# Print the rate of win of this stimulation when switching\n",
    "print(f\"Winning rate when switching: {win_rate:.4f}\")"
   ]
  },
  {
   "cell_type": "code",
   "execution_count": 3,
   "id": "318b8acc-9af3-4356-a432-739af213d948",
   "metadata": {},
   "outputs": [
    {
     "name": "stdout",
     "output_type": "stream",
     "text": [
      "Bot says: hello , thank you ? yes , thank you ? i am doing great .\n",
      "Bot says: is . how about you ? i am fine , it is . what are\n",
      "Bot says: great . how are you . it s a wonderful day , thank you ?\n"
     ]
    }
   ],
   "source": [
    "# Question 4\n",
    "# Markov Chains and Text Generation\n",
    "from IPython.display import YouTubeVideo\n",
    "YouTubeVideo('56mGTszb_iM', width = 550)\n",
    "\n",
    "\n",
    "# First Version of Markov ChatBot that produced by ChatGPT \n",
    "# Basic setup\n",
    "import random\n",
    "import re\n",
    "from collections import defaultdict\n",
    "\n",
    "# Coding Markov Chartbot's functions\n",
    "class MarkovChatbot:\n",
    "    def __init__(self):\n",
    "        self.chain = defaultdict(list)\n",
    "\n",
    "    def tokenize_text(self, text):\n",
    "        # Split the text into words, keeping punctuation\n",
    "        words = re.findall(r'\\b\\w+\\b|[.,!?;]', text.lower())\n",
    "        return words\n",
    "\n",
    "    def build_chain(self, text):\n",
    "        words = self.tokenize_text(text)\n",
    "        # Create pairs of consecutive words\n",
    "        for i in range(len(words) - 1):\n",
    "            self.chain[words[i]].append(words[i + 1])\n",
    "\n",
    "    def generate_response(self, seed=None, max_length=15):\n",
    "        if not seed:\n",
    "            seed = random.choice(list(self.chain.keys()))\n",
    "        response = [seed]\n",
    "        \n",
    "        # Generate up to max_length words\n",
    "        for _ in range(max_length - 1):\n",
    "            current_word = response[-1]\n",
    "            if current_word not in self.chain or not self.chain[current_word]:\n",
    "                break\n",
    "            next_word = random.choice(self.chain[current_word])\n",
    "            response.append(next_word)\n",
    "        \n",
    "        return ' '.join(response)\n",
    "\n",
    "# Example usage\n",
    "chatbot = MarkovChatbot()\n",
    "\n",
    "# Sample training text\n",
    "training_text = \"\"\"\n",
    "Hello, how are you? I am fine, thank you. How about you? I am doing great. \n",
    "It's a wonderful day, isn't it? Yes, it is. What are your plans for today?\n",
    "\"\"\"\n",
    "\n",
    "# Train the bot\n",
    "chatbot.build_chain(training_text)\n",
    "\n",
    "# Generate some responses\n",
    "for _ in range(3):\n",
    "    print(\"Bot says:\", chatbot.generate_response())\n"
   ]
  },
  {
   "cell_type": "markdown",
   "id": "739e7840",
   "metadata": {},
   "source": [
    "# Question 5\n",
    "I've given the two extensions of Markov ChatBot Training to ChatGPT and I'll put the link that show the Chat History between the ChatBot and I at the end of this Homework."
   ]
  },
  {
   "cell_type": "markdown",
   "id": "9614d853",
   "metadata": {},
   "source": [
    "# Question 6 \n",
    "    I've done the process of using ChatGPT to help me understand Monte Hall Stimulation and Markov ChatBot Training. I'd like to share with you sth that I think are interesting or valueable: \n",
    "    1. ChatGPT can help me to solve above question in a very short time period, which strongly saving my time in doing searching.\n",
    "    2. In this homework, I thinke the interacting between ChatGPT and I are very efficient and helpful since it doesn't show the mass logic in responsing. However, as the HW guidance worries, there are times when chatgpt does not understand a question enough to give an invalid answer. (I met the issue in Math stuff)\n",
    "    3. Base on my experience with ChatGPT, I'd like to say that ChatGPT is a very helpful AI Tool for me to understaning coding knowledge. Which mainly because it can response to your question immediately so you are more likely to reamin the current operation in you mind rather then forget what you do last when you spend a lot of time in online research(such as Google). In addition, The response of ChatGPT to a Code-Question is a combination of both word-describetion and code-example, so I'm more likely to understand the point that I asked. However, it just an AI Tool sometime will make the questions or knowledge more abstract(i.g. in Calculus Proof), therefore, as an user of ChatGPT, I do need have a basic understanding of the field of questions I asked."
   ]
  },
  {
   "cell_type": "markdown",
   "id": "97af3be8",
   "metadata": {},
   "source": [
    "# Question 7\n",
    "    In my opnion, the AI assisstance enhance our ability of two-sides thinking(In the positive way; In the negative way), which is quit important for the learning in the statistical field since we need to make the decision for data choice and data analysis. The different choice might lead to the different types of result, more completed thinking can support us to the result we want in higher possibility. I'd like to include this ability in my following expection. In positive way, Ai assisstance will strongly support students in their learning in Statistical field, which is not only because it can answer your questions professionally but also it can ask immediately. In negative way, frequent use of AI assistant can make students form dependence, it would hurt their ability of autonomous learning. In summary, I believe that the using of AI assisstance in the field of statistic and etc. has possibility in both positive and negative direction, what we can do it to use it wisely to help our learning."
   ]
  },
  {
   "cell_type": "markdown",
   "id": "c5971de3",
   "metadata": {},
   "source": [
    "# Question 8\n",
    "\n",
    "3. Summary of Chat History between ChatGPT and I about this question:\n",
    "    In this conversation, we discussed the importance of continuous learning and adaptability in the data science industry. You also asked about the most in-demand skills for data scientists and how knowledge of statistics empowers professionals to derive meaningful insights from data. We then explored whether it's possible to be a statistician or data scientist without coding or data analysis skills, concluding that while it's possible in certain roles, coding and analysis are crucial for most positions. Finally, since you aspire to be a mathematician, I highlighted that the most important capacity for that goal is problem-solving ability, along with abstract thinking, logical reasoning, and perseverance.\n",
    "\n",
    "4. My own career expection - Paraphrase from the the chat history between ChatGPT and I.\n",
    "    As a mathematician, I will focus on the development of problem-solving,logical reasoning and abstract thinking abilities. In addition, continuous learning and adaptability is the key to get academic and career success. With mathematics increasingly intersects with fields like data science, AI, and quantum computing. Coding and data analysis skills will enhance my ability to apply mathematical concepts in real-world contexts. Early in my career, I'll likely engage in research or applied roles, progressing to leadership positions in academia or industry. Perseverance and collaboration across disciplines will be essential for long-term success.\n",
    "\n",
    "5. ChatGPT generates a very professional analysis of our topic, however, I don't feel that I get the efficient help from its response, not only because its answer include too many terms that I can't undersatnd clearly, but also I'll easily lost patience in chatbot-style analysis(especially when Chating with them). I believe it's because I treat academic problem as \"asking questions and getting answers\". In this case, I can ignore ChatGPT's identity(Non-people). However, I can't treat ChatGPT as a firendly to chat with. Therefore, I can't get help from ChatGPT's \"professional analysis\".\n"
   ]
  },
  {
   "cell_type": "markdown",
   "id": "67ca4c8d",
   "metadata": {},
   "source": [
    "# Question 9\n",
    "Yes."
   ]
  },
  {
   "cell_type": "markdown",
   "id": "ba1c048f",
   "metadata": {},
   "source": [
    "ChatGPT Link:\n",
    "The main Chat History: https://chatgpt.com/share/66edbd1b-1760-800c-bf60-3447631c709e\n",
    "New_Chat for question 5: https://chatgpt.com/share/66edbcf3-4b60-800c-a42a-13211c689260\n",
    "New_Chat for question 8: https://chatgpt.com/share/66edbbdc-1894-800c-a4e6-02f16f1b9a71"
   ]
  }
 ],
 "metadata": {
  "kernelspec": {
   "display_name": "Python 3 (ipykernel)",
   "language": "python",
   "name": "python3"
  },
  "language_info": {
   "codemirror_mode": {
    "name": "ipython",
    "version": 3
   },
   "file_extension": ".py",
   "mimetype": "text/x-python",
   "name": "python",
   "nbconvert_exporter": "python",
   "pygments_lexer": "ipython3",
   "version": "3.11.6"
  }
 },
 "nbformat": 4,
 "nbformat_minor": 5
}
